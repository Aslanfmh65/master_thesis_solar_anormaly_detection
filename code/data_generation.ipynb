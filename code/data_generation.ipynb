{
 "cells": [
  {
   "cell_type": "code",
   "execution_count": 22,
   "metadata": {},
   "outputs": [],
   "source": [
    "import pandas as pd\n",
    "import numpy as np\n",
    "import os"
   ]
  },
  {
   "cell_type": "code",
   "execution_count": 23,
   "metadata": {},
   "outputs": [],
   "source": [
    "west_roof = ['121721038107', '121721037685', '121721038037', '121721038147', '121721037806', \n",
    "             '121721037892', '121721038143']\n",
    "east_roof = ['121721037871', '121721037662', '121721037801', '121721037691', '121721037880',\n",
    "             '121721038936', '121721038122', '121721038148', '121721038133']\n",
    "lower_roof = ['121721037686', '121721037788', '121721038076', '121721038079', '121721037867', \n",
    "              '121721038020', '121721037817', '121721038144', '121721038911', '121721037842']"
   ]
  },
  {
   "cell_type": "markdown",
   "metadata": {},
   "source": [
    "## Merge selected columns based on row index"
   ]
  },
  {
   "cell_type": "code",
   "execution_count": 24,
   "metadata": {},
   "outputs": [
    {
     "name": "stderr",
     "output_type": "stream",
     "text": [
      "/Users/aslanfeng/anaconda3/lib/python3.7/site-packages/ipykernel_launcher.py:18: FutureWarning: Sorting because non-concatenation axis is not aligned. A future version\n",
      "of pandas will change to not sort by default.\n",
      "\n",
      "To accept the future behavior, pass 'sort=False'.\n",
      "\n",
      "To retain the current behavior and silence the warning, pass 'sort=True'.\n",
      "\n",
      "/Users/aslanfeng/anaconda3/lib/python3.7/site-packages/ipykernel_launcher.py:21: FutureWarning: Sorting because non-concatenation axis is not aligned. A future version\n",
      "of pandas will change to not sort by default.\n",
      "\n",
      "To accept the future behavior, pass 'sort=False'.\n",
      "\n",
      "To retain the current behavior and silence the warning, pass 'sort=True'.\n",
      "\n",
      "/Users/aslanfeng/anaconda3/lib/python3.7/site-packages/ipykernel_launcher.py:24: FutureWarning: Sorting because non-concatenation axis is not aligned. A future version\n",
      "of pandas will change to not sort by default.\n",
      "\n",
      "To accept the future behavior, pass 'sort=False'.\n",
      "\n",
      "To retain the current behavior and silence the warning, pass 'sort=True'.\n",
      "\n"
     ]
    }
   ],
   "source": [
    "# first_column = '121721037662'\n",
    "# df1 = pd.read_csv(first_column+'.csv', index_col=0,engine='python')\n",
    "\n",
    "west_df = pd.read_csv(west_roof[0]+'.csv', index_col=0,engine='python')\n",
    "east_df = pd.read_csv(east_roof[0]+'.csv', index_col=0,engine='python')\n",
    "lower_df = pd.read_csv(lower_roof[0]+'.csv', index_col=0,engine='python')\n",
    "\n",
    "west_name = [west_roof[0]]\n",
    "east_name = [east_roof[0]]\n",
    "lower_name = [lower_roof[0]]\n",
    "for root, dirs, files in os.walk('/Users/aslanfeng/Desktop/data'):\n",
    "    for filename in files:\n",
    "        if filename[-4:] == \".csv\":\n",
    "            if (filename[0:-4] == west_roof[0]) | (filename[0:-4] == east_roof[0]) | (filename[0:-4] == lower_roof[0]):\n",
    "                continue\n",
    "            dataset = pd.read_csv(filename, index_col=0,engine='python')\n",
    "            if filename[0:-4] in west_roof:\n",
    "                west_df = pd.concat([west_df['Power Produced (W)'], dataset['Power Produced (W)']], axis=1).reindex(west_df.index)\n",
    "                west_name.append(filename[0:-4])\n",
    "            elif filename[0:-4] in east_roof:\n",
    "                east_df = pd.concat([east_df['Power Produced (W)'], dataset['Power Produced (W)']], axis=1).reindex(east_df.index)\n",
    "                east_name.append(filename[0:-4])\n",
    "            elif filename[0:-4] in lower_roof:\n",
    "                lower_df = pd.concat([lower_df['Power Produced (W)'], dataset['Power Produced (W)']], axis=1).reindex(lower_df.index)\n",
    "                lower_name.append(filename[0:-4])\n",
    "    \n",
    "west_df.columns = west_name\n",
    "east_df.columns = east_name\n",
    "lower_df.columns = lower_name"
   ]
  },
  {
   "cell_type": "code",
   "execution_count": 27,
   "metadata": {},
   "outputs": [],
   "source": [
    "export_csv = west_df.to_csv (\"west_roof_.csv\", index = True, header=True)\n",
    "export_csv = east_df.to_csv (\"east_roof_.csv\", index = True, header=True)\n",
    "export_csv = lower_df.to_csv (\"lower_roof_.csv\", index = True, header=True)"
   ]
  },
  {
   "cell_type": "code",
   "execution_count": null,
   "metadata": {},
   "outputs": [],
   "source": []
  }
 ],
 "metadata": {
  "kernelspec": {
   "display_name": "Python 3",
   "language": "python",
   "name": "python3"
  },
  "language_info": {
   "codemirror_mode": {
    "name": "ipython",
    "version": 3
   },
   "file_extension": ".py",
   "mimetype": "text/x-python",
   "name": "python",
   "nbconvert_exporter": "python",
   "pygments_lexer": "ipython3",
   "version": "3.7.4"
  }
 },
 "nbformat": 4,
 "nbformat_minor": 2
}
